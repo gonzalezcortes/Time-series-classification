{
 "cells": [
  {
   "cell_type": "markdown",
   "id": "fa1f2aa7",
   "metadata": {},
   "source": [
    "## Time Series Classification"
   ]
  },
  {
   "cell_type": "markdown",
   "id": "90ec43ea",
   "metadata": {},
   "source": [
    "This Jupyter notebook provides a guide to time series classification using PyTorch. This notebook covers key topics related to time series classification, including preprocessing techniques for time series data, time series classification algorithms, and deep learning models such as recurrent neural networks (RNNs), long short-term memory (LSTM) networks, and transformers.\n",
    "\n",
    "I will use PyTorch, to implement the models. Additionally, I add evaluation metrics for time series classification, including accuracy, precision, recall, F1 score, and area under the receiver operating characteristic (ROC) curve, and best practices for building and evaluating time series classification models, including how to avoid overfitting and deal with class imbalance. Finally, I will apply a case study."
   ]
  },
  {
   "cell_type": "code",
   "execution_count": null,
   "id": "e2669051",
   "metadata": {},
   "outputs": [],
   "source": []
  }
 ],
 "metadata": {
  "kernelspec": {
   "display_name": "Python 3 (ipykernel)",
   "language": "python",
   "name": "python3"
  },
  "language_info": {
   "codemirror_mode": {
    "name": "ipython",
    "version": 3
   },
   "file_extension": ".py",
   "mimetype": "text/x-python",
   "name": "python",
   "nbconvert_exporter": "python",
   "pygments_lexer": "ipython3",
   "version": "3.9.13"
  }
 },
 "nbformat": 4,
 "nbformat_minor": 5
}
